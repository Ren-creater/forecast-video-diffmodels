{
 "cells": [
  {
   "cell_type": "code",
   "execution_count": 1,
   "id": "f9b8f0de-d5ff-4225-9677-307047771049",
   "metadata": {},
   "outputs": [],
   "source": [
    "import pandas as pd\n",
    "import pickle\n",
    "import random\n",
    "\n",
    "from utils import *"
   ]
  },
  {
   "cell_type": "code",
   "execution_count": 2,
   "id": "ec4e1937-d46a-44b3-8168-626ae79dd460",
   "metadata": {},
   "outputs": [],
   "source": [
    "TEST_RATIO = 0.2 \n",
    "\n",
    "random.seed(42)"
   ]
  },
  {
   "cell_type": "code",
   "execution_count": 3,
   "id": "4ddac9a4-6720-4d34-90d1-e44bce1d55f7",
   "metadata": {},
   "outputs": [],
   "source": [
    "cyclones_path = \"./list_of_cyclones.xlsx\"\n",
    "df = pd.read_excel(cyclones_path)\n",
    "df = df.drop('Unnamed: 8', axis=1)\n",
    "df = df.dropna()"
   ]
  },
  {
   "cell_type": "code",
   "execution_count": 4,
   "id": "ac191efe-b43f-4c55-a3c1-4a50fb433a73",
   "metadata": {},
   "outputs": [],
   "source": [
    "regions = df['Region'].unique()"
   ]
  },
  {
   "cell_type": "code",
   "execution_count": 5,
   "id": "ea440e6e-c428-41f9-8af8-45fb7a0c636e",
   "metadata": {},
   "outputs": [],
   "source": [
    "test = {}\n",
    "\n",
    "for region in regions:\n",
    "    region_df = df[df['Region'] == region]\n",
    "    cyclones = [x.lower() for x in region_df['Name'].values]\n",
    "    test_cyclones = random.sample(list(cyclones), round(TEST_RATIO * len(cyclones)))\n",
    "    test[region_to_abbv[region]] = test_cyclones "
   ]
  },
  {
   "cell_type": "code",
   "execution_count": 6,
   "id": "168654f5-bfa3-40fd-af83-44cf3d985839",
   "metadata": {},
   "outputs": [
    {
     "data": {
      "text/plain": [
       "{'nio': ['maha', 'asani', 'mocha'],\n",
       " 'aus': ['veronica'],\n",
       " 'wio': ['gombe', 'cheneso'],\n",
       " 'use': ['grace', 'ida'],\n",
       " 'usw': ['rosyln'],\n",
       " 'wpo': ['molave', 'nesat']}"
      ]
     },
     "execution_count": 6,
     "metadata": {},
     "output_type": "execute_result"
    }
   ],
   "source": [
    "test"
   ]
  },
  {
   "cell_type": "code",
   "execution_count": 7,
   "id": "affedb17-3828-4056-a1a9-47d8ddb3fa14",
   "metadata": {},
   "outputs": [],
   "source": [
    "with open(\"test_set.pkl\", \"wb\") as file:\n",
    "    pickle.dump(test, file)"
   ]
  }
 ],
 "metadata": {
  "kernelspec": {
   "display_name": "Python 3 (ipykernel)",
   "language": "python",
   "name": "python3"
  },
  "language_info": {
   "codemirror_mode": {
    "name": "ipython",
    "version": 3
   },
   "file_extension": ".py",
   "mimetype": "text/x-python",
   "name": "python",
   "nbconvert_exporter": "python",
   "pygments_lexer": "ipython3",
   "version": "3.10.12"
  }
 },
 "nbformat": 4,
 "nbformat_minor": 5
}
