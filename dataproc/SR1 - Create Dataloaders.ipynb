{
 "cells": [
  {
   "cell_type": "code",
   "execution_count": 1,
   "id": "2785b33e-382f-44b8-b668-47f57932ef25",
   "metadata": {},
   "outputs": [],
   "source": [
    "import pandas as pd\n",
    "import torch\n",
    "import skimage\n",
    "import pickle\n",
    "\n",
    "import warnings\n",
    "warnings.filterwarnings(\"ignore\")\n",
    "\n",
    "from tqdm import tqdm"
   ]
  },
  {
   "cell_type": "code",
   "execution_count": 2,
   "id": "0f4d3f66-738a-4d6c-aaef-6f39b736ebf5",
   "metadata": {},
   "outputs": [],
   "source": [
    "from utils import *"
   ]
  },
  {
   "cell_type": "code",
   "execution_count": 3,
   "id": "6545e9bf-b72a-420b-a42b-4267d669373e",
   "metadata": {},
   "outputs": [],
   "source": [
    "BASE_DIR = \"/rds/general/user/zr523/home/researchProject/satellite/dataloader/64_128/\""
   ]
  },
  {
   "cell_type": "code",
   "execution_count": 4,
   "id": "7464f185-013f-4ea5-aac1-476df3d54343",
   "metadata": {},
   "outputs": [],
   "source": [
    "import sys\n",
    "sys.stdout = open(f'DL_LOG_{datetime.utcnow().strftime(\"%Y-%m-%dT%H:%M:%SZ\")}.log','wt')"
   ]
  },
  {
   "cell_type": "code",
   "execution_count": 5,
   "id": "0eb7a6cd-0681-457e-b7bd-1c8f5a2e7753",
   "metadata": {},
   "outputs": [],
   "source": [
    "cyclones_path = \"./list_of_cyclones.xlsx\"\n",
    "df = pd.read_excel(cyclones_path)\n",
    "df = df.drop('Unnamed: 8', axis=1)\n",
    "df = df.dropna()"
   ]
  },
  {
   "cell_type": "code",
   "execution_count": 6,
   "id": "a2272f5e-8f88-45d1-b404-49adf2a5e037",
   "metadata": {},
   "outputs": [],
   "source": [
    "def is_stub_already_present(dest_folder, stub):\n",
    "    stubs = [x.split('/')[-1] for x in glob.glob(dest_folder+\"*.dat\")]\n",
    "    if stub in stubs: \n",
    "        print(f\"Present: {stub}\", flush=True)\n",
    "        return True\n",
    "    return False"
   ]
  },
  {
   "cell_type": "code",
   "execution_count": 7,
   "id": "deb8881f-186f-4689-ad4a-111e8394626a",
   "metadata": {},
   "outputs": [],
   "source": [
    "def fetch_cyclone(idx):\n",
    "    row = df.iloc[idx]\n",
    "    region = row[\"Region\"]\n",
    "    name = row[\"Name\"]\n",
    "    cyclone = Cyclone(region, name)\n",
    "    cyclone.load_era5()\n",
    "    \n",
    "    o_size = 64 ; n_size = 128\n",
    "    data_loader = CycloneDataLoader()\n",
    "\n",
    "    region = region_to_abbv[region]\n",
    "    name = name.replace(' ', '').lower()\n",
    "    filename = f\"{region}_{name}.dat\"\n",
    "    \n",
    "    if is_stub_already_present(BASE_DIR, filename):\n",
    "        return\n",
    "\n",
    "    print(f\"[{name.upper()}] Processing dataloader.\", flush=True)\n",
    "\n",
    "    for satmap_idx in tqdm(range(cyclone.metadata['count'])):\n",
    "        ir108_fn = cyclone.metadata['satmaps'][satmap_idx]['ir108_fn']\n",
    "        ir108_scn = cyclone.get_ir108_data(ir108_fn)    \n",
    "        img = ir108_scn.to_numpy() ; \n",
    "        img = transform_make_sq_image(img)\n",
    "    \n",
    "        img_o = skimage.transform.resize(img, (o_size, o_size), anti_aliasing=True)\n",
    "        img_o = torch.from_numpy(img_o).unsqueeze(0)        \n",
    "    \n",
    "        img_n = skimage.transform.resize(img, (n_size, n_size), anti_aliasing=True)\n",
    "        img_n = torch.from_numpy(img_n).unsqueeze(0)\n",
    "        \n",
    "        era5_idx = cyclone.metadata['satmaps'][satmap_idx]['era5_idx']\n",
    "        era5 = cyclone.get_era5_data(era5_idx, gfs=True)\n",
    "        era5 = skimage.transform.resize(era5, (3, n_size, n_size), anti_aliasing=True)\n",
    "        era5 = torch.from_numpy(era5).unsqueeze(0)\n",
    "\n",
    "        if torch.isnan(img_o.sum()) or torch.isnan(img_n.sum()) or torch.isnan(era5.sum()):\n",
    "            print(f\"[NAN]\\t{region}\\t{name}\\t{satmap_idx}\", flush=True)\n",
    "            continue\n",
    "        \n",
    "        data_loader.add_image(img_o, img_n, era5)\n",
    "    \n",
    "    with open(f'{BASE_DIR}{filename}', 'wb') as data_file:\n",
    "        pickle.dump(data_loader, data_file)\n",
    "\n",
    "    print(f\"[{name.upper()}] Completed processing dataloader.\", flush=True)"
   ]
  },
  {
   "cell_type": "code",
   "execution_count": 8,
   "id": "87db93b8-a52d-43a1-896e-e806764a2cbe",
   "metadata": {},
   "outputs": [
    {
     "name": "stderr",
     "output_type": "stream",
     "text": [
      "100%|███████████████████████████████████████████████████████████████████████████████████████████████| 117/117 [03:41<00:00,  1.89s/it]\n",
      "100%|███████████████████████████████████████████████████████████████████████████████████████████████| 139/139 [04:03<00:00,  1.75s/it]\n",
      "100%|███████████████████████████████████████████████████████████████████████████████████████████████| 137/137 [04:08<00:00,  1.81s/it]\n",
      "100%|███████████████████████████████████████████████████████████████████████████████████████████████| 141/141 [04:14<00:00,  1.80s/it]\n",
      "100%|███████████████████████████████████████████████████████████████████████████████████████████████| 158/158 [04:33<00:00,  1.73s/it]\n"
     ]
    }
   ],
   "source": [
    "%%time\n",
    "\n",
    "from multiprocessing import Pool, cpu_count\n",
    "from functools import partial\n",
    "\n",
    "idx = list(range(5))\n",
    "\n",
    "pool = Pool(cpu_count())\n",
    "fetch_cyclone_func = partial(fetch_cyclone)\n",
    "results = pool.map(fetch_cyclone_func, idx)\n",
    "pool.close()\n",
    "pool.join()"
   ]
  },
  {
   "cell_type": "code",
   "execution_count": null,
   "id": "5dbe3ee3-cd9c-4480-ae20-8066b7f04225",
   "metadata": {},
   "outputs": [],
   "source": []
  }
 ],
 "metadata": {
  "kernelspec": {
   "display_name": "Python 3 (ipykernel)",
   "language": "python",
   "name": "python3"
  },
  "language_info": {
   "codemirror_mode": {
    "name": "ipython",
    "version": 3
   },
   "file_extension": ".py",
   "mimetype": "text/x-python",
   "name": "python",
   "nbconvert_exporter": "python",
   "pygments_lexer": "ipython3",
   "version": "3.10.12"
  }
 },
 "nbformat": 4,
 "nbformat_minor": 5
}
