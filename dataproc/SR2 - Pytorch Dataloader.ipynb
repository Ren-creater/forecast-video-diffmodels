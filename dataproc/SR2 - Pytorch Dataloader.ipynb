{
 "cells": [
  {
   "cell_type": "code",
   "execution_count": 1,
   "id": "145727f4-c065-4a92-a789-ee1e027fb44d",
   "metadata": {},
   "outputs": [],
   "source": [
    "import glob\n",
    "import torch\n",
    "import numpy as np\n",
    "import pickle\n",
    "\n",
    "from tqdm import tqdm"
   ]
  },
  {
   "cell_type": "code",
   "execution_count": 2,
   "id": "0da663eb-d9ea-41c0-8ba1-8c0ea4be7a2d",
   "metadata": {},
   "outputs": [],
   "source": [
    "from utils import *"
   ]
  },
  {
   "cell_type": "code",
   "execution_count": 3,
   "id": "ad7fbbe5-04b7-4731-80a0-fb042161623e",
   "metadata": {},
   "outputs": [],
   "source": [
    "BASE_DIR = \"/rds/general/user/zr523/home/researchProject/satellite/dataloader/64_128\"\n",
    "c_dataloader_fns = glob.glob(BASE_DIR + \"/*.dat\")"
   ]
  },
  {
   "cell_type": "code",
   "execution_count": 4,
   "id": "1f50851e-0ea5-4fb4-b9fb-e6e52104f14e",
   "metadata": {},
   "outputs": [
    {
     "name": "stderr",
     "output_type": "stream",
     "text": [
      "100%|███████████████████████████████████████████| 51/51 [01:05<00:00,  1.28s/it]\n"
     ]
    }
   ],
   "source": [
    "test_set = pickle.load(open(\"/rds/general/user/zr523/home/researchProject/forecast-diffmodels/dataproc/test_set.pkl\", \"rb\"))\n",
    "train_dataloader = ModelDataLoader(batch_size=4, augment=True)\n",
    "test_dataloader  = ModelDataLoader(batch_size=4, test=True)\n",
    "\n",
    "for fn in tqdm(c_dataloader_fns):\n",
    "    with open(fn, \"rb\") as file: \n",
    "        region, name = fn.split('/')[-1][:-4].split('_')\n",
    "        if name in test_set[region]:\n",
    "            test_dataloader.add_dataloader(pickle.load(file))\n",
    "        else:\n",
    "            train_dataloader.add_dataloader(pickle.load(file))"
   ]
  },
  {
   "cell_type": "code",
   "execution_count": null,
   "id": "e477285f-d2be-4d82-86e5-6931070a6dc9",
   "metadata": {},
   "outputs": [],
   "source": []
  }
 ],
 "metadata": {
  "kernelspec": {
   "display_name": "Python 3 (ipykernel)",
   "language": "python",
   "name": "python3"
  },
  "language_info": {
   "codemirror_mode": {
    "name": "ipython",
    "version": 3
   },
   "file_extension": ".py",
   "mimetype": "text/x-python",
   "name": "python",
   "nbconvert_exporter": "python",
   "pygments_lexer": "ipython3",
   "version": "3.10.6"
  }
 },
 "nbformat": 4,
 "nbformat_minor": 5
}
