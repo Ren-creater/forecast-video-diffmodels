{
 "cells": [
  {
   "cell_type": "code",
   "execution_count": 1,
   "id": "56109466-3cb4-47f1-8e1b-5e10d5920b8d",
   "metadata": {},
   "outputs": [
    {
     "name": "stderr",
     "output_type": "stream",
     "text": [
      "/rds/general/user/zr523/home/venv/lib/python3.10/site-packages/tqdm/auto.py:21: TqdmWarning: IProgress not found. Please update jupyter and ipywidgets. See https://ipywidgets.readthedocs.io/en/stable/user_install.html\n",
      "  from .autonotebook import tqdm as notebook_tqdm\n"
     ]
    }
   ],
   "source": [
    "import torch\n",
    "import torch.nn.functional as F\n",
    "import torchmetrics"
   ]
  },
  {
   "cell_type": "code",
   "execution_count": 2,
   "id": "9b85b807-7b66-4c53-8817-ef69659bd34f",
   "metadata": {},
   "outputs": [],
   "source": [
    "y_pred = torch.randn(4, 3, 128, 128)\n",
    "y_true = torch.randn(4, 3, 128, 128)"
   ]
  },
  {
   "cell_type": "code",
   "execution_count": 3,
   "id": "901bb776-e973-4521-b080-3887bfe9fdef",
   "metadata": {},
   "outputs": [],
   "source": [
    "def KL_DivLoss(y_pred, y_true):\n",
    "    kl_loss = torch.nn.KLDivLoss(reduction=\"batchmean\", log_target=True)\n",
    "    log_input = F.log_softmax(y_pred, dim=1)\n",
    "    log_target = F.log_softmax(y_true, dim=1)\n",
    "    output = kl_loss(log_input, log_target)\n",
    "    return output\n",
    "\n",
    "def RMSELoss(y_pred, y_true):\n",
    "    mse_loss = torch.nn.MSELoss(reduction=\"mean\")\n",
    "    output = torch.sqrt(mse_loss(y_true, y_pred))\n",
    "    return output\n",
    "\n",
    "def MAELoss(y_pred, y_true):\n",
    "    mae_loss = torch.nn.L1Loss(reduction=\"mean\")\n",
    "    output = torch.sqrt(mae_loss(y_true, y_pred))\n",
    "    return output  \n",
    "\n",
    "def PSNR(y_pred, y_true):\n",
    "    psnr = torchmetrics.PeakSignalNoiseRatio()\n",
    "    output = psnr(y_pred, y_true)\n",
    "    return output   \n",
    "\n",
    "def SSIM(y_pred, y_true):\n",
    "    ssim = torchmetrics.StructuralSimilarityIndexMeasure()\n",
    "    output = ssim(y_pred, y_true)\n",
    "    return output\n",
    "\n",
    "def FID(y_pred, y_true):\n",
    "    from torchmetrics.image.fid import FrechetInceptionDistance\n",
    "    \n",
    "    fid = FrechetInceptionDistance(feature=64, normalize=True)\n",
    "    fid.update(y_true, real=True)\n",
    "    fid.update(y_pred, real=False)\n",
    "    output = fid.compute()\n",
    "    return output"
   ]
  },
  {
   "cell_type": "code",
   "execution_count": 4,
   "id": "134d390c-9e57-49d6-a1d5-02620f57b6f8",
   "metadata": {},
   "outputs": [
    {
     "name": "stderr",
     "output_type": "stream",
     "text": [
      "Downloading: \"https://github.com/toshas/torch-fidelity/releases/download/v0.2.0/weights-inception-2015-12-05-6726825d.pth\" to /homes/zr523/.cache/torch/hub/checkpoints/weights-inception-2015-12-05-6726825d.pth\n",
      "100%|██████████████████████████████████████| 91.2M/91.2M [00:01<00:00, 54.6MB/s]\n"
     ]
    }
   ],
   "source": [
    "fn_list = [\n",
    "    (\"kl_div\", KL_DivLoss), \n",
    "    (\"rmse\", RMSELoss), \n",
    "    (\"mae\", MAELoss),\n",
    "    (\"psnr\", PSNR),\n",
    "    (\"ssim\", SSIM),\n",
    "    (\"fid\", FID)\n",
    "]\n",
    "\n",
    "loss_dict = {}\n",
    "for fn_name, fn in fn_list:\n",
    "    loss_dict[fn_name] = fn(y_pred, y_true)"
   ]
  },
  {
   "cell_type": "code",
   "execution_count": 5,
   "id": "3db4fefb-fcf4-4906-b71e-d9ada084485e",
   "metadata": {},
   "outputs": [
    {
     "data": {
      "text/plain": [
       "{'kl_div': tensor(8479.2217),\n",
       " 'rmse': tensor(1.4155),\n",
       " 'mae': tensor(1.0630),\n",
       " 'psnr': tensor(16.1908),\n",
       " 'ssim': tensor(0.0155),\n",
       " 'fid': tensor(0.0801)}"
      ]
     },
     "execution_count": 5,
     "metadata": {},
     "output_type": "execute_result"
    }
   ],
   "source": [
    "loss_dict"
   ]
  },
  {
   "cell_type": "code",
   "execution_count": null,
   "id": "7a679f8b-78ad-4f10-8ff0-59f2b7955c98",
   "metadata": {},
   "outputs": [],
   "source": []
  }
 ],
 "metadata": {
  "kernelspec": {
   "display_name": "Python 3 (ipykernel)",
   "language": "python",
   "name": "python3"
  },
  "language_info": {
   "codemirror_mode": {
    "name": "ipython",
    "version": 3
   },
   "file_extension": ".py",
   "mimetype": "text/x-python",
   "name": "python",
   "nbconvert_exporter": "python",
   "pygments_lexer": "ipython3",
   "version": "3.10.6"
  }
 },
 "nbformat": 4,
 "nbformat_minor": 5
}
