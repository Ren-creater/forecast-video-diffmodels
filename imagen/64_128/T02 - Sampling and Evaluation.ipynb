{
 "cells": [
  {
   "cell_type": "code",
   "execution_count": null,
   "id": "1e42e807-590f-4e74-acf2-21f29266d17c",
   "metadata": {},
   "outputs": [],
   "source": [
    "import glob\n",
    "import copy"
   ]
  },
  {
   "cell_type": "code",
   "execution_count": null,
   "id": "8f4e0549-6b18-4756-8a4e-4c1952043db2",
   "metadata": {},
   "outputs": [],
   "source": [
    "import sys\n",
    "sys.path.append(\"../\")\n",
    "sys.path.append(\"../imagen/\")\n",
    "\n",
    "from helpers import *\n",
    "from imagen_pytorch import Unet, Imagen, ImagenTrainer, NullUnet"
   ]
  },
  {
   "cell_type": "code",
   "execution_count": null,
   "id": "d67e5522-3a14-49db-941a-61d70d95884f",
   "metadata": {},
   "outputs": [],
   "source": [
    "RUN_NAME = \"64_128_rot904_sep_3e-4\"\n",
    "BASE_DIR = f\"{BASE_HOME}/models/{RUN_NAME}/models/64_128/\""
   ]
  },
  {
   "cell_type": "code",
   "execution_count": null,
   "id": "f1253f15-38ba-4a7f-8936-30663f54a55b",
   "metadata": {},
   "outputs": [],
   "source": [
    "seed_value = 42\n",
    "torch.manual_seed(seed_value)\n",
    "if torch.cuda.is_available(): torch.cuda.manual_seed_all(seed_value)"
   ]
  },
  {
   "cell_type": "code",
   "execution_count": null,
   "id": "72be6195-914c-4340-b862-98c73fdf0618",
   "metadata": {},
   "outputs": [],
   "source": [
    "ckpt_files = sorted(glob.glob(BASE_DIR + \"ckpt_2_*\"))\n",
    "ckpt_trainer_files = sorted(glob.glob(BASE_DIR + \"ckpt_trainer_2_*\"))"
   ]
  },
  {
   "cell_type": "code",
   "execution_count": null,
   "id": "e0cfe971-dd88-4657-a95a-69d606db1a13",
   "metadata": {},
   "outputs": [],
   "source": [
    "unet1 = NullUnet()  \n",
    "\n",
    "unet2 = Unet(\n",
    "    dim = 32,\n",
    "    cond_dim = 1024,\n",
    "    dim_mults = (1, 2, 4, 8),\n",
    "    num_resnet_blocks = (2, 4, 8, 8),\n",
    "    layer_attns = (False, False, False, True),\n",
    "    layer_cross_attns = (False, False, False, True)\n",
    ")\n",
    "unets = [unet1, unet2]"
   ]
  },
  {
   "cell_type": "code",
   "execution_count": null,
   "id": "bc657540-83ea-4512-8e2c-a604797a0f27",
   "metadata": {},
   "outputs": [],
   "source": [
    "class DDPMArgs:\n",
    "    def __init__(self):\n",
    "        pass\n",
    "    \n",
    "args = DDPMArgs()\n",
    "args.batch_size = 16\n",
    "args.image_size = 64 ; args.o_size = 64 ; args.n_size = 128 ;\n",
    "args.continuous_embed_dim = 128*128*3\n",
    "args.dataset_path = f\"/rds/general/user/zr523/home/researchProject/satellite/dataloader/{args.o_size}_{args.n_size}\"\n",
    "args.datalimit = False\n",
    "args.lr = 3e-4\n",
    "\n",
    "train_dataloader, test_dataloader = get_satellite_data(args)\n",
    "_ = len(train_dataloader) ; _ = len(test_dataloader)\n",
    "\n",
    "if '1k' in RUN_NAME:\n",
    "    timesteps = 1000\n",
    "else:\n",
    "    timesteps = 250\n",
    "\n",
    "imagen = Imagen(\n",
    "    unets = unets,\n",
    "    image_sizes = (64, 128),\n",
    "    timesteps = timesteps,\n",
    "    cond_drop_prob = 0.1,\n",
    "    condition_on_continuous = True,\n",
    "    continuous_embed_dim = args.continuous_embed_dim,\n",
    ")"
   ]
  },
  {
   "cell_type": "code",
   "execution_count": null,
   "id": "46ad8ffd-7ed3-4442-a479-85fbe75c747e",
   "metadata": {},
   "outputs": [],
   "source": [
    "random_idx = [5]\n",
    "\n",
    "metric_dict = {\n",
    "    \"kl_div\": [],\n",
    "    \"rmse\": [],\n",
    "    \"mae\":  [],\n",
    "    \"psnr\": [],\n",
    "    \"ssim\": [],\n",
    "    \"fid\": []\n",
    "}\n",
    "\n",
    "train_test_metric_dict = {\n",
    "    \"train\": copy.deepcopy(metric_dict), \n",
    "    \"test\": copy.deepcopy(metric_dict)\n",
    "}\n",
    "\n",
    "for idx in range(len(ckpt_trainer_files[:2])):\n",
    "    ckpt_trainer_path = ckpt_trainer_files[idx]\n",
    "\n",
    "    for mode in [\"train\", \"test\"]:\n",
    "        if mode == \"train\" : dataloader = train_dataloader\n",
    "        elif mode == \"test\": dataloader = test_dataloader\n",
    "    \n",
    "        trainer = ImagenTrainer(imagen, lr=args.lr, verbose=False).cuda()\n",
    "        trainer.load(ckpt_trainer_path)  \n",
    "        \n",
    "        batch_idx = dataloader.random_idx[random_idx[0]]\n",
    "        img_64, img_128, era5 = dataloader.get_batch(batch_idx)\n",
    "        era5 = era5.reshape(era5.shape[0], -1)\n",
    "        ema_sampled_images = imagen.sample(\n",
    "            batch_size = img_64.shape[0],\n",
    "            start_at_unet_number = 2,              \n",
    "            start_image_or_video = img_64.float().cuda(),\n",
    "            cond_scale = 3.,\n",
    "            continuous_embeds=era5.float().cuda()\n",
    "        )\n",
    "        \n",
    "        y_true = img_128.cpu()\n",
    "        y_pred = ema_sampled_images.cpu()\n",
    "        metric_dict = calculate_metrics(y_pred, y_true)\n",
    "        for key in metric_dict.keys():\n",
    "            train_test_metric_dict[mode][key].append(metric_dict[key])"
   ]
  },
  {
   "cell_type": "raw",
   "id": "6f70e397-a834-4cb1-94df-06108382bb4c",
   "metadata": {},
   "source": [
    "with open(f\"{BASE_HOME}/models/{RUN_NAME}/metrics.pkl\", \"wb\") as file:\n",
    "    pickle.dump(train_test_metric_dict, file)"
   ]
  },
  {
   "cell_type": "code",
   "execution_count": null,
   "id": "28056a05-aca1-4d84-b91b-ff062782df94",
   "metadata": {},
   "outputs": [],
   "source": []
  }
 ],
 "metadata": {
  "kernelspec": {
   "display_name": "Python 3 (ipykernel)",
   "language": "python",
   "name": "python3"
  },
  "language_info": {
   "codemirror_mode": {
    "name": "ipython",
    "version": 3
   },
   "file_extension": ".py",
   "mimetype": "text/x-python",
   "name": "python",
   "nbconvert_exporter": "python",
   "pygments_lexer": "ipython3",
   "version": "3.10.12"
  }
 },
 "nbformat": 4,
 "nbformat_minor": 5
}
